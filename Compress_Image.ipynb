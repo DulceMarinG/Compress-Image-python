{
  "nbformat": 4,
  "nbformat_minor": 0,
  "metadata": {
    "colab": {
      "provenance": [],
      "authorship_tag": "ABX9TyP8O7ep7b58N6cO5OKseBEu",
      "include_colab_link": true
    },
    "kernelspec": {
      "name": "python3",
      "display_name": "Python 3"
    },
    "language_info": {
      "name": "python"
    }
  },
  "cells": [
    {
      "cell_type": "markdown",
      "metadata": {
        "id": "view-in-github",
        "colab_type": "text"
      },
      "source": [
        "<a href=\"https://colab.research.google.com/github/DulceMarinG/Compress-Image-python/blob/main/Compress_Image.ipynb\" target=\"_parent\"><img src=\"https://colab.research.google.com/assets/colab-badge.svg\" alt=\"Open In Colab\"/></a>"
      ]
    },
    {
      "cell_type": "code",
      "execution_count": 1,
      "metadata": {
        "colab": {
          "base_uri": "https://localhost:8080/"
        },
        "id": "gHWp2qXlEIeH",
        "outputId": "ba37b8d4-2cb8-490c-d688-5a09ffc27f52"
      },
      "outputs": [
        {
          "output_type": "stream",
          "name": "stdout",
          "text": [
            "Requirement already satisfied: Pillow in /usr/local/lib/python3.10/dist-packages (9.4.0)\n"
          ]
        }
      ],
      "source": [
        "!pip install Pillow"
      ]
    },
    {
      "cell_type": "code",
      "source": [
        "from PIL import Image\n",
        "import os"
      ],
      "metadata": {
        "id": "GhgGvgwTEdCc"
      },
      "execution_count": 17,
      "outputs": []
    },
    {
      "cell_type": "code",
      "source": [
        "image = Image.open('C.png')"
      ],
      "metadata": {
        "id": "AJxH3iYmE0vF"
      },
      "execution_count": 18,
      "outputs": []
    },
    {
      "cell_type": "code",
      "source": [
        "width, height = image.size\n",
        "new_size = (width//2, height//2)\n",
        "resized_image = image.resize(new_size)"
      ],
      "metadata": {
        "id": "BPDxtVx1FhK7"
      },
      "execution_count": 19,
      "outputs": []
    },
    {
      "cell_type": "code",
      "source": [
        "resized_image.save('C.png', optimize=True, quality=50)"
      ],
      "metadata": {
        "id": "cWQBysbsFtCv"
      },
      "execution_count": 20,
      "outputs": []
    },
    {
      "cell_type": "code",
      "source": [
        "original_size = os.path.getsize('C.png')\n",
        "compressed_size = os.path.getsize('_C.png')\n",
        "\n",
        "print(\"Original Size: \", original_size)\n",
        "print(\"Compressed Size: \", compressed_size)"
      ],
      "metadata": {
        "colab": {
          "base_uri": "https://localhost:8080/"
        },
        "id": "5VgBtPSVF31W",
        "outputId": "18f7456c-a0ce-4bbf-9349-862171ea1f7e"
      },
      "execution_count": 21,
      "outputs": [
        {
          "output_type": "stream",
          "name": "stdout",
          "text": [
            "Original Size:  138556\n",
            "Compressed Size:  506810\n"
          ]
        }
      ]
    }
  ]
}